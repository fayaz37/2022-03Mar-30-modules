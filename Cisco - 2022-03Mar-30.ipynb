{
 "cells": [
  {
   "cell_type": "markdown",
   "metadata": {},
   "source": [
    "# Agenda\n",
    "\n",
    "1. Using modules\n",
    "    - What are modules? Why do we need them?\n",
    "    - What does `import` do?\n",
    "    - When we `import`, how does Python find a module?\n",
    "    - Variations on `import`\n",
    "2. Writing modules\n",
    "    - What does a module look like? (Spoiler: A file.)\n",
    "    - Defining variables and functions in a module\n",
    "    - Variables in a module file become attributes on the module object\n",
    "    - `__name__` variable, and how we can use it"
   ]
  },
  {
   "cell_type": "markdown",
   "metadata": {},
   "source": [
    "# DRY -- Dno't "
   ]
  }
 ],
 "metadata": {
  "kernelspec": {
   "display_name": "Python 3 (ipykernel)",
   "language": "python",
   "name": "python3"
  },
  "language_info": {
   "codemirror_mode": {
    "name": "ipython",
    "version": 3
   },
   "file_extension": ".py",
   "mimetype": "text/x-python",
   "name": "python",
   "nbconvert_exporter": "python",
   "pygments_lexer": "ipython3",
   "version": "3.10.2"
  }
 },
 "nbformat": 4,
 "nbformat_minor": 4
}
