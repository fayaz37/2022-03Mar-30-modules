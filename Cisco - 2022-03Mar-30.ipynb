{
 "cells": [
  {
   "cell_type": "markdown",
   "metadata": {},
   "source": [
    "# Agenda\n",
    "\n",
    "1. Using modules\n",
    "    - What are modules? Why do we need them?\n",
    "    - What does `import` do?\n",
    "    - When we `import`, how does Python find a module?\n",
    "    - Variations on `import`\n",
    "2. Writing modules\n",
    "    - What does a module look like? (Spoiler: A file.)\n",
    "    - Defining variables and functions in a module\n",
    "    - Variables in a module file become attributes on the module object\n",
    "    - `__name__` variable, and how we can use it"
   ]
  },
  {
   "cell_type": "markdown",
   "metadata": {},
   "source": [
    "# DRY -- Don't Repeat Yourself!\n",
    "\n",
    "- If you have the same code in several lines, one after the other, then you can \"DRY up your code\" by using a loop.\n",
    "- If you have the same code in several different places in a single program, then you can DRY up your code by using a function.\n",
    "- If you have the same code in several different programs, then you can DRY up your code by using a library -- or as we call a library in Python, a \"module.\"\n",
    "\n",
    "WET -- write everything twice."
   ]
  },
  {
   "cell_type": "code",
   "execution_count": 1,
   "metadata": {},
   "outputs": [
    {
     "data": {
      "text/plain": [
       "79"
      ]
     },
     "execution_count": 1,
     "metadata": {},
     "output_type": "execute_result"
    }
   ],
   "source": [
    "# I want to generate a random integer from 0-100\n",
    "\n",
    "import random\n",
    "random.randint(0, 100)"
   ]
  },
  {
   "cell_type": "markdown",
   "metadata": {},
   "source": [
    "# Weird things to notice about `import`\n",
    "\n",
    "1. It's not a function! It's a statement, a keyword, something that comes with Python.\n",
    "2. The name that we give to `import` isn't a string, isn't a filename -- it's the variable name we want to create when we perform our `import`."
   ]
  },
  {
   "cell_type": "markdown",
   "metadata": {},
   "source": [
    "# What happens when I have `import random` in my program?\n",
    "\n",
    "1. Python looks for the module `random.py`.  It takes the module name we've given it, adds `.py` suffix, and then looks for that file.  (We'll see in a moment where it looks.)\n",
    "2. It loads the module into memory.\n",
    "3. Python creates the `random` variable, and assigns all of the variables and functions from the module to attributes on the `random` module object."
   ]
  },
  {
   "cell_type": "code",
   "execution_count": 2,
   "metadata": {},
   "outputs": [],
   "source": [
    "# try:\n",
    "#     import cPickle as pickle\n",
    "# except ModuleNotFoundError:\n",
    "#     import pickle"
   ]
  },
  {
   "cell_type": "code",
   "execution_count": 3,
   "metadata": {},
   "outputs": [
    {
     "data": {
      "text/plain": [
       "module"
      ]
     },
     "execution_count": 3,
     "metadata": {},
     "output_type": "execute_result"
    }
   ],
   "source": [
    "type(random)"
   ]
  },
  {
   "cell_type": "code",
   "execution_count": 4,
   "metadata": {},
   "outputs": [
    {
     "data": {
      "text/plain": [
       "45"
      ]
     },
     "execution_count": 4,
     "metadata": {},
     "output_type": "execute_result"
    }
   ],
   "source": [
    "random.randint(0, 100)"
   ]
  },
  {
   "cell_type": "code",
   "execution_count": 5,
   "metadata": {},
   "outputs": [
    {
     "data": {
      "text/plain": [
       "<module 'random' from '/usr/local/Cellar/python@3.10/3.10.2/Frameworks/Python.framework/Versions/3.10/lib/python3.10/random.py'>"
      ]
     },
     "execution_count": 5,
     "metadata": {},
     "output_type": "execute_result"
    }
   ],
   "source": [
    "random"
   ]
  },
  {
   "cell_type": "markdown",
   "metadata": {},
   "source": [
    "# How does Python know where to look?\n",
    "\n",
    "Python has a list of strings, named `sys.path`, which tells it where to look for any modules we want to load. The `sys` module "
   ]
  }
 ],
 "metadata": {
  "kernelspec": {
   "display_name": "Python 3 (ipykernel)",
   "language": "python",
   "name": "python3"
  },
  "language_info": {
   "codemirror_mode": {
    "name": "ipython",
    "version": 3
   },
   "file_extension": ".py",
   "mimetype": "text/x-python",
   "name": "python",
   "nbconvert_exporter": "python",
   "pygments_lexer": "ipython3",
   "version": "3.10.2"
  }
 },
 "nbformat": 4,
 "nbformat_minor": 4
}
